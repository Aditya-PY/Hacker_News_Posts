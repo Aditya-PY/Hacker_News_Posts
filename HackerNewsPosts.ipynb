{
 "cells": [
  {
   "cell_type": "markdown",
   "metadata": {
    "collapsed": true
   },
   "source": [
    "# Exploring Hacker News Posts\n",
    "\n",
    "***\n",
    "\n",
    "## Introduction\n",
    "\n",
    "[Hacker News](https://news.ycombinator.com/) (HN) is a website where user submitted posts are voted and commented upon, very much like [Reddit](https://reddit.com).\n",
    "In this website we are particularly interested in posts where their respective titles begin with `Ask HN` or `Show HN`.\n",
    "\n",
    "Users submit `Ask HN` posts to ask the Hacker News community a specific question while `Show HN` posts are used to show the community a project, a product or something generally interesting.\n",
    "\n",
    "Within the dataset the description of the coloumns are as below (Index Numbers have been added so that we know what coloumn the codes below refer to):\n",
    "\n",
    "Index No. |Column name |Description                                         \n",
    "--------------|---------|-------------------------------------------\n",
    "0| id          |The unique identifier from Hacker News for the post\n",
    "1|title       |The title of the post\n",
    "2| url         | The URL that the posts links to, if it the post has a URL\n",
    "3| num_points  | The number of points the post acquired, calculated as the total number of upvotes minus the total number of downvotes\n",
    "4| num_comments| The number of comments that were made on the post\n",
    "5|author      | The username of the person who submitted the post\n",
    "6|created_at  | The date and time at which the post was submitted \n",
    "\n",
    "The Dataset we are working with contains approximately 300,000 HN posts. Further information regarding the dataset used for this project can be found by clicking [here](https://www.kaggle.com/hacker-news/hacker-news-posts).\n",
    "\n",
    "The main objective of this project is as below:\n",
    "\n",
    "**Project Goals:**\n",
    "\n",
    "1. To determine whether 'Ask HN' Posts or 'Show HN' posts receive a higher number of comments on average.\n",
    "2. To determine the best time of day to submit your post in order to recieve a high number of comments.\n",
    "\n",
    "\n",
    "***\n",
    "\n",
    "\n"
   ]
  },
  {
   "cell_type": "markdown",
   "metadata": {},
   "source": [
    "## Project Goal 1: To determine whether 'Ask HN' Posts or 'Show HN' posts receive a higher number of comments on average.\n",
    "\n",
    "## Opening and reading the file\n",
    "\n",
    "Below we open the .csv dataset and assign if to the variable `hn`. We also remove the header row and keep it in a seperate variable `headers`.\n",
    "\n",
    "We print the `headers` and `hn` variables to get a better understanding of what our data consists of."
   ]
  },
  {
   "cell_type": "code",
   "execution_count": 1,
   "metadata": {
    "scrolled": true
   },
   "outputs": [
    {
     "name": "stdout",
     "output_type": "stream",
     "text": [
      "['id', 'title', 'url', 'num_points', 'num_comments', 'author', 'created_at'] \n",
      "\n",
      "['12579008', 'You have two days to comment if you want stem cells to be classified as your own', 'http://www.regulations.gov/document?D=FDA-2015-D-3719-0018', '1', '0', 'altstar', '9/26/2016 3:26'] \n",
      "\n",
      "['12579005', 'SQLAR  the SQLite Archiver', 'https://www.sqlite.org/sqlar/doc/trunk/README.md', '1', '0', 'blacksqr', '9/26/2016 3:24'] \n",
      "\n",
      "['12578997', 'What if we just printed a flatscreen television on the side of our boxes?', 'https://medium.com/vanmoof/our-secrets-out-f21c1f03fdc8#.ietxmez43', '1', '0', 'pavel_lishin', '9/26/2016 3:19'] \n",
      "\n",
      "['12578989', 'algorithmic music', 'http://cacm.acm.org/magazines/2011/7/109891-algorithmic-composition/fulltext', '1', '0', 'poindontcare', '9/26/2016 3:16'] \n",
      "\n",
      "['12578979', 'How the Data Vault Enables the Next-Gen Data Warehouse and Data Lake', 'https://www.talend.com/blog/2016/05/12/talend-and-Â\\x93the-data-vaultÂ\\x94', '1', '0', 'markgainor1', '9/26/2016 3:14'] \n",
      "\n"
     ]
    }
   ],
   "source": [
    "from csv import reader\n",
    "\n",
    "opened_file = open('hacker_news.csv', encoding=\"utf8\")\n",
    "read_file = reader(opened_file)\n",
    "hn = list(read_file)\n",
    "headers = hn[0]\n",
    "hn = hn[1:]\n",
    "\n",
    "print(headers,'\\n')\n",
    "for row in hn[:5]:\n",
    "    print(row,'\\n')\n"
   ]
  },
  {
   "cell_type": "markdown",
   "metadata": {},
   "source": [
    "## Removing Posts without comments\n",
    "\n",
    "From here on we will only consider posts that have comments and will not be dealing with posts with 0 comments. We are doing this as to obtain a fair average within posts that have some traction. \n",
    "\n",
    "This also helps us largely reduce our dataset size from approxmiately 300,000 to approximately 80,000."
   ]
  },
  {
   "cell_type": "code",
   "execution_count": 2,
   "metadata": {},
   "outputs": [
    {
     "name": "stdout",
     "output_type": "stream",
     "text": [
      "Number of posts with comments:  80401\n"
     ]
    }
   ],
   "source": [
    "posts_w_comments = []\n",
    "\n",
    "for row in hn:\n",
    "    ncomments = row[4]\n",
    "    if ncomments != '0':\n",
    "        posts_w_comments.append(row)\n",
    "        \n",
    "print(\"Number of posts with comments: \",len(posts_w_comments))"
   ]
  },
  {
   "cell_type": "markdown",
   "metadata": {},
   "source": [
    "## Filtering 'Ask HN' and 'Show HN' posts\n",
    "\n",
    "We then proceed to look at the whole dataset and seperate Ask HN posts and Show HN posts in two seperate lists with the variable name `ask_posts` and `show_posts` respectively. Since users may not post with titles that match the case exactly we will need to convert each string to lower case to make it easier for us to identify posts that begin with ask hn & show hn.\n",
    "\n",
    "Finally, the number of 'Ask HN' & 'Show HN' posts are then displayed."
   ]
  },
  {
   "cell_type": "code",
   "execution_count": 3,
   "metadata": {
    "scrolled": true
   },
   "outputs": [
    {
     "name": "stdout",
     "output_type": "stream",
     "text": [
      "No. of Posts starting with Ask HN: 6911 \n",
      "No. of Posts starting with Show HN: 5059\n",
      "No. of Other Posts 68431\n"
     ]
    }
   ],
   "source": [
    "ask_posts = []\n",
    "show_posts = []\n",
    "other_posts = []\n",
    "\n",
    "for row in posts_w_comments:      \n",
    "    title = row[1]\n",
    "    lower_title = title.lower()\n",
    "    if lower_title.startswith('ask hn'):\n",
    "        ask_posts.append(row)\n",
    "    elif lower_title.startswith('show hn'):\n",
    "        show_posts.append(row)\n",
    "    else:\n",
    "        other_posts.append(row)\n",
    "\n",
    "print(\"No. of Posts starting with Ask HN: {} \\nNo. of Posts starting with Show HN: {}\\nNo. of Other Posts {}\".format(len(ask_posts),len(show_posts),len(other_posts)))"
   ]
  },
  {
   "cell_type": "markdown",
   "metadata": {},
   "source": [
    "The results above show us that there are more Show HN posts in our dataset, and it can be assumed that there are more Show HN posts on the website as well."
   ]
  },
  {
   "cell_type": "markdown",
   "metadata": {},
   "source": [
    "## Calculating average number of comments for 'Ask HN' and 'Show HN' posts\n",
    "\n",
    "To calculate the average number of comments for 'Ask HN' and 'Show HN' posts we first sum up the total number of comments for the posts within `ask_posts` and `show_posts` and then divide by the number of posts to obtain an average."
   ]
  },
  {
   "cell_type": "code",
   "execution_count": 4,
   "metadata": {},
   "outputs": [
    {
     "name": "stdout",
     "output_type": "stream",
     "text": [
      "Average number of comments on Ask HN Posts:  13.744175951381855\n",
      "Average number of comments of Show HN Posts:  9.810832180272781\n"
     ]
    }
   ],
   "source": [
    "total_ask_comments = 0\n",
    "total_show_comments = 0\n",
    "\n",
    "for row in ask_posts:\n",
    "    num_comments = int(row[4])\n",
    "    total_ask_comments += num_comments\n",
    "    \n",
    "avg_ask_comments = total_ask_comments/len(ask_posts)\n",
    "\n",
    "print(\"Average number of comments on Ask HN Posts: \", avg_ask_comments)\n",
    "\n",
    "for row in show_posts:\n",
    "    num_comments = int(row[4])\n",
    "    total_show_comments += num_comments\n",
    "\n",
    "avg_show_comments = total_show_comments/len(show_posts)\n",
    "\n",
    "print(\"Average number of comments of Show HN Posts: \", avg_show_comments)\n",
    "    "
   ]
  },
  {
   "cell_type": "markdown",
   "metadata": {},
   "source": [
    "From the above analysis it is clear that there is more traction on Ask HN posts. This could be because people are willing to post their opinions or provide answers to help the original poster regarding his/her queries. Whereas Show HN posts may recieve lesser comments due to the fact that people may just see what the original poster has to say or show, find it interesting or not and move on to the next post much like any social media platform. A user may only comment on Show HN posts when they have a strong opinion on the content they are viewing.\n",
    "***"
   ]
  },
  {
   "cell_type": "markdown",
   "metadata": {},
   "source": [
    "## Project Goal 2: To determine the best time of day to submit your post in order to recieve a high number of comments.\n",
    "\n",
    "## Finding the number of Ask Posts and number of comments created by hour\n",
    "\n",
    "Since ask posts are more likely to receive comments, we'll focus our remaining analysis just on these posts.\n",
    "\n",
    "With the below code we work with date and time in an attempt to:\n",
    "* count the number of Ask HN posts posted each hour.\n",
    "* calculate the total number of comments for Ask HN posts for each hour."
   ]
  },
  {
   "cell_type": "code",
   "execution_count": 11,
   "metadata": {},
   "outputs": [
    {
     "name": "stdout",
     "output_type": "stream",
     "text": [
      "Below data is in the format: (Hour, Number of Comments for Ask Posts in that hour)\n",
      "\n",
      "[('09', 1477), ('07', 1585), ('06', 1587), ('05', 1838), ('01', 2089), ('03', 2154), ('00', 2277), ('23', 2297), ('04', 2360), ('08', 2362), ('11', 2797), ('02', 2996), ('10', 3013), ('22', 3372), ('19', 3954), ('12', 4234), ('20', 4462), ('16', 4466), ('21', 4500), ('18', 4877), ('14', 4972), ('17', 5547), ('13', 7245), ('15', 18525)]\n",
      "\n",
      "\n",
      "Below data is in the format: (Hour, Number of Ask Posts posted in that hour)\n",
      "\n",
      "[('07', 157), ('05', 165), ('09', 176), ('06', 176), ('04', 186), ('08', 190), ('03', 212), ('10', 219), ('01', 223), ('02', 227), ('00', 231), ('11', 251), ('12', 274), ('23', 276), ('22', 287), ('13', 326), ('14', 378), ('20', 392), ('17', 404), ('21', 407), ('16', 415), ('19', 420), ('18', 452), ('15', 467)]\n"
     ]
    }
   ],
   "source": [
    "import datetime as dt\n",
    "\n",
    "result_list = []\n",
    "\n",
    "for row in ask_posts:\n",
    "    post_date_time = row[6]\n",
    "    ncomments = int(row[4])\n",
    "    result_list.append([post_date_time,ncomments])\n",
    "    \n",
    "counts_by_hour = {}\n",
    "comments_by_hour = {}\n",
    "date_format = \"%m/%d/%Y %H:%M\"\n",
    "    \n",
    "for row in result_list:\n",
    "    date_time = row[0]\n",
    "    ncomments = row[1]\n",
    "    time = dt.datetime.strptime(date_time, date_format).strftime(\"%H\")\n",
    "    \n",
    "    if time not in counts_by_hour:\n",
    "        counts_by_hour[time] = 1\n",
    "        comments_by_hour[time] = ncomments\n",
    "    else:\n",
    "        counts_by_hour[time] += 1\n",
    "        comments_by_hour[time] += ncomments\n",
    "        \n",
    "print(\"Below data is in the format: (Hour, Number of Comments for Ask Posts in that hour)\\n\")        \n",
    "print(sorted(comments_by_hour.items(), key=lambda kv: kv[1])) #Sort dictionary by values ascending\n",
    "print('\\n')        \n",
    "print(\"Below data is in the format: (Hour, Number of Ask Posts posted in that hour)\\n\") \n",
    "print(sorted(counts_by_hour.items(), key=lambda kv: kv[1])) #Sort dictionary by values ascending\n",
    "        "
   ]
  },
  {
   "cell_type": "markdown",
   "metadata": {},
   "source": [
    "The 24 hour time format is in EST format according to the dataset documentation.\n",
    "\n",
    "From the above results we can identify that at 15:00-16:00 EST has the highest number of comments at 18525 & posts at 467."
   ]
  },
  {
   "cell_type": "markdown",
   "metadata": {},
   "source": [
    "## Calculating the Average Number of Comments for Ask HN Posts by Hour"
   ]
  },
  {
   "cell_type": "markdown",
   "metadata": {},
   "source": [
    "We now use the results from the above code block to determine the average number of comments for Ask HN Posts by Hour.\n",
    "This is done by simply dividing the total number of comments for all posts for that hour by the number of posts submitted within that hour. i.e. `comments_by_hour[key`/`counts_by_hour[key]`"
   ]
  },
  {
   "cell_type": "code",
   "execution_count": 6,
   "metadata": {
    "scrolled": true
   },
   "outputs": [
    {
     "name": "stdout",
     "output_type": "stream",
     "text": [
      "[['15', 39.66809421841542], ['13', 22.2239263803681], ['12', 15.452554744525548], ['10', 13.757990867579908], ['17', 13.73019801980198], ['02', 13.198237885462555], ['14', 13.153439153439153], ['04', 12.688172043010752], ['08', 12.43157894736842], ['22', 11.749128919860627], ['20', 11.38265306122449], ['11', 11.143426294820717], ['05', 11.139393939393939], ['21', 11.056511056511056], ['18', 10.789823008849558], ['16', 10.76144578313253], ['03', 10.160377358490566], ['07', 10.095541401273886], ['00', 9.857142857142858], ['19', 9.414285714285715], ['01', 9.367713004484305], ['06', 9.017045454545455], ['09', 8.392045454545455], ['23', 8.322463768115941]]\n"
     ]
    }
   ],
   "source": [
    "avg_by_hour = []\n",
    "\n",
    "for key in comments_by_hour:\n",
    "    average_by_hour = comments_by_hour[key]/counts_by_hour[key]\n",
    "    avg_by_hour.append([key, average_by_hour])\n",
    "    \n",
    "def take_second(elem):  # Fuction to return index 1 in list of lists\n",
    "    return elem[1]\n",
    "    \n",
    "sorted_avg_by_hour = sorted(avg_by_hour, key=take_second, reverse=True) # Uses above function 'take_second' to sort avg_by_hour in descending by value\n",
    "print(sorted_avg_by_hour)"
   ]
  },
  {
   "cell_type": "markdown",
   "metadata": {},
   "source": [
    "The above data tells us that 1500 hours EST is the best time to post a Ask HN post to recieve a high number of comments. The Top 5 hours to post Ask HN posts are presented in a neater manner below: "
   ]
  },
  {
   "cell_type": "code",
   "execution_count": 7,
   "metadata": {
    "scrolled": true
   },
   "outputs": [
    {
     "name": "stdout",
     "output_type": "stream",
     "text": [
      "Top 5 Hours to submit Ask HN Posts:\n",
      "\n",
      "Hour: 15, Average Number of Comments: 39.67\n",
      "Hour: 13, Average Number of Comments: 22.22\n",
      "Hour: 12, Average Number of Comments: 15.45\n",
      "Hour: 10, Average Number of Comments: 13.76\n",
      "Hour: 17, Average Number of Comments: 13.73\n"
     ]
    }
   ],
   "source": [
    "print(\"Top 5 Hours to submit Ask HN Posts:\\n\")\n",
    "for row in sorted_avg_by_hour[:5]:\n",
    "    print(\"Hour: {}, Average Number of Comments: {:.2f}\".format(row[0],row[1]))"
   ]
  },
  {
   "cell_type": "markdown",
   "metadata": {},
   "source": [
    "## Conclusion\n",
    "\n",
    "To summarize we have found out that among all the Hacker News posts that do recieve comments:\n",
    "\n",
    "1) 'Ask HN' Posts recieve a higher number of comments on average. <br>\n",
    "2) 1500-1600 EST (3 PM - 4PM EST) would be the best time of day to submit an Ask HN post to recieve a high number of comments"
   ]
  }
 ],
 "metadata": {
  "kernelspec": {
   "display_name": "Python 3",
   "language": "python",
   "name": "python3"
  },
  "language_info": {
   "codemirror_mode": {
    "name": "ipython",
    "version": 3
   },
   "file_extension": ".py",
   "mimetype": "text/x-python",
   "name": "python",
   "nbconvert_exporter": "python",
   "pygments_lexer": "ipython3",
   "version": "3.7.6"
  }
 },
 "nbformat": 4,
 "nbformat_minor": 2
}
